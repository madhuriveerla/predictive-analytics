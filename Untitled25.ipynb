{
  "nbformat": 4,
  "nbformat_minor": 0,
  "metadata": {
    "colab": {
      "provenance": [],
      "authorship_tag": "ABX9TyPvMGUpC3WifHLw05o5vo/L",
      "include_colab_link": true
    },
    "kernelspec": {
      "name": "python3",
      "display_name": "Python 3"
    },
    "language_info": {
      "name": "python"
    }
  },
  "cells": [
    {
      "cell_type": "markdown",
      "metadata": {
        "id": "view-in-github",
        "colab_type": "text"
      },
      "source": [
        "<a href=\"https://colab.research.google.com/github/madhuriveerla/predictive-analytics/blob/next-product-prediciton/Untitled25.ipynb\" target=\"_parent\"><img src=\"https://colab.research.google.com/assets/colab-badge.svg\" alt=\"Open In Colab\"/></a>"
      ]
    },
    {
      "cell_type": "code",
      "execution_count": null,
      "metadata": {
        "colab": {
          "base_uri": "https://localhost:8080/"
        },
        "id": "kJzYHi4ufkOW",
        "outputId": "74611b74-9ec7-49a8-9ee2-e0aff450e06a"
      },
      "outputs": [
        {
          "output_type": "stream",
          "name": "stdout",
          "text": [
            "product_id\n",
            "C    0.666667\n",
            "dtype: float64\n"
          ]
        }
      ],
      "source": [
        "import pandas as pd\n",
        "from sklearn.metrics.pairwise import cosine_similarity\n",
        "import numpy as np\n",
        "\n",
        "# Sample purchase data: user_id, product_id, purchase_count\n",
        "data = [\n",
        "    [1, 'A', 2],\n",
        "    [1, 'B', 1],\n",
        "    [2, 'A', 1],\n",
        "    [2, 'C', 2],\n",
        "    [3, 'B', 2],\n",
        "    [3, 'C', 1],\n",
        "]\n",
        "\n",
        "df = pd.DataFrame(data, columns=['user_id', 'product_id', 'purchase_count'])\n",
        "\n",
        "# Create user-item matrix\n",
        "user_item = df.pivot(index='user_id', columns='product_id', values='purchase_count').fillna(0)\n",
        "\n",
        "# Compute user similarity matrix\n",
        "user_sim = cosine_similarity(user_item)\n",
        "\n",
        "# Convert to DataFrame for easy handling\n",
        "user_sim_df = pd.DataFrame(user_sim, index=user_item.index, columns=user_item.index)\n",
        "\n",
        "def predict_next_products(user_id, user_item, user_sim_df, top_n=3):\n",
        "    # Get similarity scores for the target user\n",
        "    sim_scores = user_sim_df.loc[user_id]\n",
        "\n",
        "    # Weighted sum of other users' purchase counts\n",
        "    weighted_purchases = np.dot(sim_scores.values, user_item.values)\n",
        "\n",
        "    # Normalize by sum of similarities\n",
        "    weighted_purchases /= sim_scores.sum()\n",
        "\n",
        "    # Create series of predicted purchase likelihoods\n",
        "    pred = pd.Series(weighted_purchases, index=user_item.columns)\n",
        "\n",
        "    # Remove products already purchased\n",
        "    purchased = user_item.loc[user_id]\n",
        "    pred = pred[purchased == 0]\n",
        "\n",
        "    # Return top N products\n",
        "    return pred.sort_values(ascending=False).head(top_n)\n",
        "\n",
        "# Example: Predict next products for user 1\n",
        "next_products = predict_next_products(1, user_item, user_sim_df)\n",
        "print(next_products)\n"
      ]
    },
    {
      "cell_type": "code",
      "source": [],
      "metadata": {
        "id": "ljLWC3zngMLq"
      },
      "execution_count": null,
      "outputs": []
    }
  ]
}