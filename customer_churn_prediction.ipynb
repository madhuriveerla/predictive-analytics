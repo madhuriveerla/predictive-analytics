{
  "nbformat": 4,
  "nbformat_minor": 0,
  "metadata": {
    "colab": {
      "provenance": [],
      "authorship_tag": "ABX9TyPkvYzLgvMDTExRoA/qcx66",
      "include_colab_link": true
    },
    "kernelspec": {
      "name": "python3",
      "display_name": "Python 3"
    },
    "language_info": {
      "name": "python"
    }
  },
  "cells": [
    {
      "cell_type": "markdown",
      "metadata": {
        "id": "view-in-github",
        "colab_type": "text"
      },
      "source": [
        "<a href=\"https://colab.research.google.com/github/madhuriveerla/predictive-analytics/blob/next-product-prediciton/customer_churn_prediction.ipynb\" target=\"_parent\"><img src=\"https://colab.research.google.com/assets/colab-badge.svg\" alt=\"Open In Colab\"/></a>"
      ]
    },
    {
      "cell_type": "code",
      "execution_count": 1,
      "metadata": {
        "colab": {
          "base_uri": "https://localhost:8080/"
        },
        "id": "HWZokHxhGxSY",
        "outputId": "7f947c4a-a5fc-4f7d-dc7f-4eb0e90a378f"
      },
      "outputs": [
        {
          "output_type": "stream",
          "name": "stdout",
          "text": [
            "   Age  Tenure  MonthlyCharges    ContractType  Churn\n",
            "0   25       1            29.9  Month-to-month      1\n",
            "1   45       5            59.9        Two year      0\n",
            "2   52      10            49.9        One year      0\n",
            "3   23       2            19.9  Month-to-month      1\n",
            "4   35       3            39.9        One year      0\n",
            "\n",
            "Confusion Matrix:\n",
            "[[2]]\n",
            "\n",
            "Classification Report:\n",
            "              precision    recall  f1-score   support\n",
            "\n",
            "           0       1.00      1.00      1.00         2\n",
            "\n",
            "    accuracy                           1.00         2\n",
            "   macro avg       1.00      1.00      1.00         2\n",
            "weighted avg       1.00      1.00      1.00         2\n",
            "\n",
            "\n",
            "Accuracy: 1.0\n",
            "\n",
            "Churn Prediction for new customer (1=Churn, 0=No Churn): 1\n"
          ]
        },
        {
          "output_type": "stream",
          "name": "stderr",
          "text": [
            "/usr/local/lib/python3.11/dist-packages/sklearn/metrics/_classification.py:407: UserWarning: A single label was found in 'y_true' and 'y_pred'. For the confusion matrix to have the correct shape, use the 'labels' parameter to pass all known labels.\n",
            "  warnings.warn(\n"
          ]
        }
      ],
      "source": [
        "import pandas as pd\n",
        "import numpy as np\n",
        "from sklearn.model_selection import train_test_split\n",
        "from sklearn.preprocessing import LabelEncoder, StandardScaler\n",
        "from sklearn.linear_model import LogisticRegression\n",
        "from sklearn.metrics import classification_report, confusion_matrix, accuracy_score\n",
        "import matplotlib.pyplot as plt\n",
        "\n",
        "# --- Step 1: Load your data ---\n",
        "\n",
        "# Example: load from CSV\n",
        "# df = pd.read_csv('customer_data.csv')\n",
        "\n",
        "# For demo: let's create synthetic data\n",
        "data = {\n",
        "    'Age': [25, 45, 52, 23, 35, 40, 60, 22, 30, 55],\n",
        "    'Tenure': [1, 5, 10, 2, 3, 4, 12, 1, 2, 11],\n",
        "    'MonthlyCharges': [29.9, 59.9, 49.9, 19.9, 39.9, 44.9, 69.9, 24.9, 34.9, 64.9],\n",
        "    'ContractType': ['Month-to-month', 'Two year', 'One year', 'Month-to-month', 'One year',\n",
        "                     'Two year', 'Two year', 'Month-to-month', 'One year', 'Two year'],\n",
        "    'Churn': [1, 0, 0, 1, 0, 0, 0, 1, 0, 0]\n",
        "}\n",
        "df = pd.DataFrame(data)\n",
        "\n",
        "print(df.head())\n",
        "\n",
        "# --- Step 2: Encode categorical features ---\n",
        "le = LabelEncoder()\n",
        "df['ContractType'] = le.fit_transform(df['ContractType'])\n",
        "\n",
        "# --- Step 3: Define features (X) and target (y) ---\n",
        "X = df.drop('Churn', axis=1)\n",
        "y = df['Churn']\n",
        "\n",
        "# --- Step 4: Train-test split ---\n",
        "X_train, X_test, y_train, y_test = train_test_split(X, y, test_size=0.2, random_state=42)\n",
        "\n",
        "# --- Step 5: Feature Scaling ---\n",
        "scaler = StandardScaler()\n",
        "X_train_scaled = scaler.fit_transform(X_train)\n",
        "X_test_scaled = scaler.transform(X_test)\n",
        "\n",
        "# --- Step 6: Train the model ---\n",
        "model = LogisticRegression()\n",
        "model.fit(X_train_scaled, y_train)\n",
        "\n",
        "# --- Step 7: Predictions ---\n",
        "y_pred = model.predict(X_test_scaled)\n",
        "\n",
        "# --- Step 8: Evaluation ---\n",
        "print(\"\\nConfusion Matrix:\")\n",
        "print(confusion_matrix(y_test, y_pred))\n",
        "print(\"\\nClassification Report:\")\n",
        "print(classification_report(y_test, y_pred))\n",
        "print(\"\\nAccuracy:\", accuracy_score(y_test, y_pred))\n",
        "\n",
        "# --- Step 9: Predict on new data ---\n",
        "new_customer = pd.DataFrame({\n",
        "    'Age': [29],\n",
        "    'Tenure': [2],\n",
        "    'MonthlyCharges': [35.0],\n",
        "    'ContractType': le.transform(['Month-to-month'])\n",
        "})\n",
        "\n",
        "new_customer_scaled = scaler.transform(new_customer)\n",
        "prediction = model.predict(new_customer_scaled)\n",
        "print(\"\\nChurn Prediction for new customer (1=Churn, 0=No Churn):\", prediction[0])"
      ]
    }
  ]
}